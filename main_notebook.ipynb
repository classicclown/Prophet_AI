{
 "cells": [
  {
   "cell_type": "code",
   "execution_count": 0,
   "metadata": {
    "application/vnd.databricks.v1+cell": {
     "cellMetadata": {
      "byteLimit": 2048000,
      "rowLimit": 10000
     },
     "inputWidgets": {},
     "nuid": "76feea58-500a-450b-b4cb-6c284baaa4b0",
     "showTitle": false,
     "tableResultSettingsMap": {},
     "title": ""
    }
   },
   "outputs": [],
   "source": [
    "\n",
    "import importlib\n",
    "import mlflow\n",
    "import mlflow.pyfunc\n",
    "import pandas as pd\n",
    "from mlflow.tracking import MlflowClient\n",
    "import azure_connector\n",
    "import numpy as np\n",
    "\n",
    "importlib.reload(azure_connector)\n",
    "from azure_connector import AzureConnector"
   ]
  },
  {
   "cell_type": "code",
   "execution_count": 0,
   "metadata": {
    "application/vnd.databricks.v1+cell": {
     "cellMetadata": {
      "byteLimit": 2048000,
      "rowLimit": 10000
     },
     "inputWidgets": {},
     "nuid": "9ff0e26e-02fb-4a66-913c-6be15e1ce6c3",
     "showTitle": false,
     "tableResultSettingsMap": {},
     "title": ""
    }
   },
   "outputs": [],
   "source": [
    "    scope = 'WellnessSync'\n",
    "    server = dbutils.secrets.get(scope=scope, key='AZURE_SQL_SERVER')\n",
    "    database = dbutils.secrets.get(scope=scope, key='AZURE_SQL_DATABASE')\n",
    "    username = dbutils.secrets.get(scope=scope, key='AZURE_SQL_USERNAME')\n",
    "    password = dbutils.secrets.get(scope=scope, key='AZURE_SQL_PASSWORD')\n",
    "\n",
    "    connector = AzureConnector(server, database, username, password)\n"
   ]
  },
  {
   "cell_type": "code",
   "execution_count": 0,
   "metadata": {
    "application/vnd.databricks.v1+cell": {
     "cellMetadata": {
      "byteLimit": 2048000,
      "rowLimit": 10000
     },
     "inputWidgets": {},
     "nuid": "e147a433-03c2-4243-a3f2-329ba0f81cac",
     "showTitle": false,
     "tableResultSettingsMap": {},
     "title": ""
    }
   },
   "outputs": [],
   "source": [
    "store_id = 8\n",
    "df = connector.read_dataframe()\n",
    "df = df.toPandas()\n",
    "# df = connector.filter_dataframe(df,store_id)\n",
    "\n"
   ]
  },
  {
   "cell_type": "code",
   "execution_count": 0,
   "metadata": {
    "application/vnd.databricks.v1+cell": {
     "cellMetadata": {
      "byteLimit": 2048000,
      "rowLimit": 10000
     },
     "inputWidgets": {},
     "nuid": "41abaeb7-38e2-4a7a-8aee-7b83142bd763",
     "showTitle": false,
     "tableResultSettingsMap": {},
     "title": ""
    }
   },
   "outputs": [],
   "source": [
    "print (df.display(5)) "
   ]
  },
  {
   "cell_type": "code",
   "execution_count": 0,
   "metadata": {
    "application/vnd.databricks.v1+cell": {
     "cellMetadata": {
      "byteLimit": 2048000,
      "rowLimit": 10000
     },
     "inputWidgets": {},
     "nuid": "d6bbd287-1881-42f0-b393-6185bfcbf724",
     "showTitle": false,
     "tableResultSettingsMap": {},
     "title": ""
    }
   },
   "outputs": [],
   "source": [
    "def make_future_dataframe(df, periods=30, freq='D'):\n",
    "    if not isinstance(df, pd.DataFrame):\n",
    "        df = pd.DataFrame(df)\n",
    "        \n",
    "    if 'ds' not in df.columns:\n",
    "        raise ValueError(\"DataFrame must contain 'ds' column\")\n",
    "        \n",
    "    df['ds'] = pd.to_datetime(df['ds'])\n",
    "    last_date = df['ds'].max()\n",
    "    \n",
    "    future_dates = pd.date_range(\n",
    "        start=last_date + pd.Timedelta(days=1),\n",
    "        periods=periods,\n",
    "        freq=freq\n",
    "    )\n",
    "\n",
    "    future_df = pd.DataFrame({\n",
    "        'ds': future_dates,\n",
    "        'y': np.nan  # NaN for unknown future values\n",
    "    })\n",
    "    \n",
    "    return future_df"
   ]
  },
  {
   "cell_type": "code",
   "execution_count": 0,
   "metadata": {
    "application/vnd.databricks.v1+cell": {
     "cellMetadata": {
      "byteLimit": 2048000,
      "rowLimit": 10000
     },
     "inputWidgets": {},
     "nuid": "1c125a01-1e74-4112-b434-eb1e71021a20",
     "showTitle": false,
     "tableResultSettingsMap": {},
     "title": ""
    }
   },
   "outputs": [],
   "source": [
    "df = pd.read_csv ('/Workspace/Users/ryan@delve.systems/Prophet_AI/grouped_data.csv')\n"
   ]
  },
  {
   "cell_type": "code",
   "execution_count": 0,
   "metadata": {
    "application/vnd.databricks.v1+cell": {
     "cellMetadata": {
      "byteLimit": 2048000,
      "rowLimit": 10000
     },
     "inputWidgets": {},
     "nuid": "802aa1fd-036e-4065-8444-aa4abb96f7ed",
     "showTitle": false,
     "tableResultSettingsMap": {},
     "title": ""
    }
   },
   "outputs": [],
   "source": [
    "model_name = \"WellnessSalesForecast_Base\"\n",
    "model_stage = \"2\" \n",
    "model = mlflow.pyfunc.load_model(model_uri=f\"models:/{model_name}/{model_stage}\")"
   ]
  },
  {
   "cell_type": "code",
   "execution_count": 0,
   "metadata": {
    "application/vnd.databricks.v1+cell": {
     "cellMetadata": {
      "byteLimit": 2048000,
      "rowLimit": 10000
     },
     "inputWidgets": {},
     "nuid": "f2fe3f7f-0002-43ca-923f-eafbbc68ed31",
     "showTitle": false,
     "tableResultSettingsMap": {},
     "title": ""
    }
   },
   "outputs": [],
   "source": [
    "#df.drop_duplicates(subset=['ds'], inplace=True)\n",
    "future_dataframe = make_future_dataframe(df=df,periods=30)\n",
    "forecast = model.predict(future_dataframe)"
   ]
  },
  {
   "cell_type": "code",
   "execution_count": 0,
   "metadata": {
    "application/vnd.databricks.v1+cell": {
     "cellMetadata": {
      "byteLimit": 2048000,
      "rowLimit": 10000
     },
     "inputWidgets": {},
     "nuid": "e56a10a0-879a-4f67-a144-8c0daa9c67f2",
     "showTitle": false,
     "tableResultSettingsMap": {},
     "title": ""
    }
   },
   "outputs": [],
   "source": [
    "import matplotlib.pyplot as plt\n",
    "\n",
    "plt.figure(figsize=(15,6))\n",
    "plt.plot(forecast['ds'], forecast['yhat1'])\n",
    "plt.xlabel('ds')\n",
    "plt.ylabel('y')\n",
    "plt.title('Forecast')\n",
    "plt.legend()\n",
    "plt.grid(True)\n",
    "plt.show()"
   ]
  },
  {
   "cell_type": "code",
   "execution_count": 0,
   "metadata": {
    "application/vnd.databricks.v1+cell": {
     "cellMetadata": {
      "byteLimit": 2048000,
      "rowLimit": 10000
     },
     "inputWidgets": {},
     "nuid": "72117122-a1c3-47e5-868f-0f6a30f77c8f",
     "showTitle": false,
     "tableResultSettingsMap": {},
     "title": ""
    }
   },
   "outputs": [],
   "source": [
    "import matplotlib.pyplot as plt\n",
    "\n",
    "df_actual = pd.read_csv('/Workspace/Users/ryan@delve.systems/Prophet_AI/temp-June_2025.csv')\n",
    "plt.figure(figsize=(20,6))\n",
    "plt.plot(df_actual['ds'], df_actual['y'])\n",
    "plt.xlabel('ds')\n",
    "plt.ylabel('y')\n",
    "plt.title('Actual')\n",
    "plt.legend()\n",
    "plt.grid(True)\n",
    "plt.show()"
   ]
  },
  {
   "cell_type": "code",
   "execution_count": 0,
   "metadata": {
    "application/vnd.databricks.v1+cell": {
     "cellMetadata": {
      "byteLimit": 2048000,
      "rowLimit": 10000
     },
     "inputWidgets": {},
     "nuid": "84d5af52-6d59-48c1-9e89-1fb15403a493",
     "showTitle": false,
     "tableResultSettingsMap": {},
     "title": ""
    }
   },
   "outputs": [],
   "source": [
    "df.head()"
   ]
  },
  {
   "cell_type": "code",
   "execution_count": 0,
   "metadata": {
    "application/vnd.databricks.v1+cell": {
     "cellMetadata": {
      "byteLimit": 2048000,
      "rowLimit": 10000
     },
     "inputWidgets": {},
     "nuid": "de2dea85-dc65-490c-915b-d78caf768667",
     "showTitle": false,
     "tableResultSettingsMap": {},
     "title": ""
    }
   },
   "outputs": [],
   "source": [
    "forecast.display()"
   ]
  },
  {
   "cell_type": "code",
   "execution_count": 0,
   "metadata": {
    "application/vnd.databricks.v1+cell": {
     "cellMetadata": {
      "byteLimit": 2048000,
      "rowLimit": 10000
     },
     "inputWidgets": {},
     "nuid": "fd8330eb-076f-44aa-8a5c-e74606ce308a",
     "showTitle": false,
     "tableResultSettingsMap": {},
     "title": ""
    }
   },
   "outputs": [],
   "source": [
    "%restart_python"
   ]
  },
  {
   "cell_type": "code",
   "execution_count": 0,
   "metadata": {
    "application/vnd.databricks.v1+cell": {
     "cellMetadata": {
      "byteLimit": 2048000,
      "rowLimit": 10000
     },
     "inputWidgets": {},
     "nuid": "d5625d4f-6ef1-41cd-8dc4-b3dfc211401b",
     "showTitle": false,
     "tableResultSettingsMap": {},
     "title": ""
    }
   },
   "outputs": [],
   "source": [
    "connector.write_dataframe(forecast,'forecast')"
   ]
  }
 ],
 "metadata": {
  "application/vnd.databricks.v1+notebook": {
   "computePreferences": null,
   "dashboards": [],
   "environmentMetadata": {
    "base_environment": "",
    "environment_version": "2"
   },
   "inputWidgetPreferences": null,
   "language": "python",
   "notebookMetadata": {
    "pythonIndentUnit": 2
   },
   "notebookName": "main_notebook",
   "widgets": {}
  },
  "language_info": {
   "name": "python"
  }
 },
 "nbformat": 4,
 "nbformat_minor": 0
}
