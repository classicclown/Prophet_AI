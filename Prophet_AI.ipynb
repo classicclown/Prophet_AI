{
 "cells": [
  {
   "cell_type": "code",
   "execution_count": 0,
   "metadata": {
    "application/vnd.databricks.v1+cell": {
     "cellMetadata": {
      "byteLimit": 2048000,
      "rowLimit": 10000
     },
     "inputWidgets": {},
     "nuid": "368c3417-3b50-4c4c-8bc9-d399186abe56",
     "showTitle": false,
     "tableResultSettingsMap": {},
     "title": ""
    }
   },
   "outputs": [],
   "source": [
    "from neuralprophet import NeuralProphet, set_log_level\n",
    "import pandas as pd\n",
    "import matplotlib.pyplot as plt\n",
    "from statsmodels.graphics.tsaplots import plot_acf\n",
    "import warnings\n",
    "import numpy as np\n",
    "from sklearn.metrics import mean_squared_error, mean_absolute_error, mean_absolute_percentage_error\n",
    "import plotly.graph_objects as go\n",
    "from copy import deepcopy\n",
    "warnings.filterwarnings(\"ignore\", category=FutureWarning)\n",
    "set_log_level(\"ERROR\")"
   ]
  },
  {
   "cell_type": "markdown",
   "metadata": {
    "application/vnd.databricks.v1+cell": {
     "cellMetadata": {
      "byteLimit": 2048000,
      "rowLimit": 10000
     },
     "inputWidgets": {},
     "nuid": "0e5b6afc-9156-4f69-9db5-7e6760214323",
     "showTitle": false,
     "tableResultSettingsMap": {},
     "title": ""
    }
   },
   "source": [
    "Model Eval"
   ]
  },
  {
   "cell_type": "code",
   "execution_count": 0,
   "metadata": {
    "application/vnd.databricks.v1+cell": {
     "cellMetadata": {
      "byteLimit": 2048000,
      "rowLimit": 10000
     },
     "inputWidgets": {},
     "nuid": "49287be1-16d8-4c26-adfc-c7da71b66143",
     "showTitle": false,
     "tableResultSettingsMap": {},
     "title": ""
    }
   },
   "outputs": [],
   "source": [
    "def model_testing (test_df, test_forecast):\n",
    "  mse=np.sqrt(mean_squared_error(y_true=test_df['y'], y_pred=test_forecast['yhat1']))\n",
    "  mae=mean_absolute_error(y_true=test_df['y'], y_pred=test_forecast['yhat1'])\n",
    "  mape=mean_absolute_percentage_error(y_true=test_df['y'], y_pred=test_forecast['yhat1'])\n",
    "\n",
    "  print('Mean Squared Error:', mse)\n",
    "  print('Mean Absolute Error:', mae)\n",
    "  print('Mean Absolute Percentage Error:', mape)"
   ]
  },
  {
   "cell_type": "markdown",
   "metadata": {
    "application/vnd.databricks.v1+cell": {
     "cellMetadata": {
      "byteLimit": 2048000,
      "rowLimit": 10000
     },
     "inputWidgets": {},
     "nuid": "40e07246-a5da-4b10-8279-0b63f50b9e79",
     "showTitle": false,
     "tableResultSettingsMap": {},
     "title": ""
    }
   },
   "source": [
    "Import dataframe"
   ]
  },
  {
   "cell_type": "code",
   "execution_count": 0,
   "metadata": {
    "application/vnd.databricks.v1+cell": {
     "cellMetadata": {
      "byteLimit": 2048000,
      "rowLimit": 10000
     },
     "inputWidgets": {},
     "nuid": "03aee984-b087-4a19-a10a-b01860e331e0",
     "showTitle": false,
     "tableResultSettingsMap": {},
     "title": ""
    }
   },
   "outputs": [],
   "source": [
    "df = pd.read_csv('/Workspace/Users/ryan@delve.systems/Prophet_AI/Wellness_Sales_Grouped.csv')\n",
    "\n",
    "df.rename(columns = {'trandate':'ds', 'AvgSale':'y'}, inplace = True)\n",
    "df.head()"
   ]
  },
  {
   "cell_type": "code",
   "execution_count": 0,
   "metadata": {
    "application/vnd.databricks.v1+cell": {
     "cellMetadata": {
      "byteLimit": 2048000,
      "rowLimit": 10000
     },
     "inputWidgets": {},
     "nuid": "c1a74041-feeb-435d-b25e-34e67952e46d",
     "showTitle": false,
     "tableResultSettingsMap": {},
     "title": ""
    }
   },
   "outputs": [],
   "source": [
    "\n",
    "\n",
    "fig = go.Figure()\n",
    "\n",
    "# Add actual data\n",
    "fig.add_trace(go.Scatter(x=df['ds'], y=df['y'], mode='lines', name='Actual'))\n",
    "\n",
    "# Update layout\n",
    "fig.update_layout(\n",
    "    title='Actuals',\n",
    "    xaxis_title='Date',\n",
    "    yaxis_title='Value'\n",
    ")\n",
    "\n",
    "# Show the plot\n",
    "fig.show()"
   ]
  },
  {
   "cell_type": "markdown",
   "metadata": {
    "application/vnd.databricks.v1+cell": {
     "cellMetadata": {
      "byteLimit": 2048000,
      "rowLimit": 10000
     },
     "inputWidgets": {},
     "nuid": "6b424e91-71c0-4cd9-b02e-1736d9ce8e48",
     "showTitle": false,
     "tableResultSettingsMap": {},
     "title": ""
    }
   },
   "source": [
    "Create Train/Test Split"
   ]
  },
  {
   "cell_type": "code",
   "execution_count": 0,
   "metadata": {
    "application/vnd.databricks.v1+cell": {
     "cellMetadata": {
      "byteLimit": 2048000,
      "rowLimit": 10000
     },
     "inputWidgets": {},
     "nuid": "7740ecab-c2d4-4c03-80b7-1137dedb76d9",
     "showTitle": false,
     "tableResultSettingsMap": {},
     "title": ""
    }
   },
   "outputs": [],
   "source": [
    "# Make sure ds is datetime\n",
    "df['ds'] = pd.to_datetime(df['ds'])\n",
    "\n",
    "# Split by date\n",
    "split_date = df['ds'].max() - pd.Timedelta(days=90)\n",
    "\n",
    "train_df = df[df['ds'] < split_date]\n",
    "test_df = df[df['ds'] >= split_date]"
   ]
  },
  {
   "cell_type": "markdown",
   "metadata": {
    "application/vnd.databricks.v1+cell": {
     "cellMetadata": {
      "byteLimit": 2048000,
      "rowLimit": 10000
     },
     "inputWidgets": {},
     "nuid": "713ac8e1-83ce-467f-9d27-52bdfbbc22d7",
     "showTitle": false,
     "tableResultSettingsMap": {},
     "title": ""
    }
   },
   "source": [
    "Build and train base model"
   ]
  },
  {
   "cell_type": "code",
   "execution_count": 0,
   "metadata": {
    "application/vnd.databricks.v1+cell": {
     "cellMetadata": {
      "byteLimit": 2048000,
      "rowLimit": 10000
     },
     "inputWidgets": {},
     "nuid": "1694ea14-72c0-49b5-90ab-4c7e12b4da03",
     "showTitle": false,
     "tableResultSettingsMap": {},
     "title": ""
    }
   },
   "outputs": [],
   "source": [
    "m_base = NeuralProphet(\n",
    "    yearly_seasonality=True,\n",
    "    weekly_seasonality=True,\n",
    "    daily_seasonality=False,\n",
    ")\n",
    "\n",
    "metrics_base = m_base.fit(train_df)\n",
    "base_forecast = m_base.predict(test_df)\n",
    "base_forecast.head()"
   ]
  },
  {
   "cell_type": "code",
   "execution_count": 0,
   "metadata": {
    "application/vnd.databricks.v1+cell": {
     "cellMetadata": {
      "byteLimit": 2048000,
      "rowLimit": 10000
     },
     "inputWidgets": {},
     "nuid": "27662db6-ca41-4fdd-9a9c-6e88053c8004",
     "showTitle": false,
     "tableResultSettingsMap": {},
     "title": ""
    }
   },
   "outputs": [],
   "source": [
    "fig, ax = plt.subplots(figsize=(10, 6))\n",
    "\n",
    "# Plotting the test_df (actual values)\n",
    "ax.plot(test_df['ds'], test_df['y'], label='Actual', color='blue')\n",
    "\n",
    "# Plotting the base_forecast (predicted values)\n",
    "ax.plot(base_forecast['ds'], base_forecast['yhat1'], label='Forecast', color='red')\n",
    "# Adding labels and title\n",
    "ax.set_xlabel('Date')\n",
    "ax.set_ylabel('Value')\n",
    "ax.set_title('Actual vs. Forecasted Values')\n",
    "ax.legend()\n",
    "\n",
    "# Display the plot\n",
    "plt.show()"
   ]
  },
  {
   "cell_type": "code",
   "execution_count": 0,
   "metadata": {
    "application/vnd.databricks.v1+cell": {
     "cellMetadata": {
      "byteLimit": 2048000,
      "rowLimit": 10000
     },
     "inputWidgets": {},
     "nuid": "d596760d-5c8a-41d1-ad77-9d977e0e849c",
     "showTitle": false,
     "tableResultSettingsMap": {},
     "title": ""
    }
   },
   "outputs": [],
   "source": [
    "model_testing(test_df,base_forecast)"
   ]
  },
  {
   "cell_type": "markdown",
   "metadata": {
    "application/vnd.databricks.v1+cell": {
     "cellMetadata": {
      "byteLimit": 2048000,
      "rowLimit": 10000
     },
     "inputWidgets": {},
     "nuid": "a6662981-fdd7-413b-a26a-2a2c66be683e",
     "showTitle": false,
     "tableResultSettingsMap": {},
     "title": ""
    }
   },
   "source": [
    "Build and train model with holidays"
   ]
  },
  {
   "cell_type": "code",
   "execution_count": 0,
   "metadata": {
    "application/vnd.databricks.v1+cell": {
     "cellMetadata": {
      "byteLimit": 2048000,
      "rowLimit": 10000
     },
     "collapsed": true,
     "inputWidgets": {},
     "nuid": "6feedd9f-a283-4ddf-9e3a-addfdd3f2d72",
     "showTitle": false,
     "tableResultSettingsMap": {},
     "title": ""
    }
   },
   "outputs": [],
   "source": [
    "holidays_df = pd.DataFrame({\n",
    "    \"event\": 'Holiday',\n",
    "    \"ds\": pd.to_datetime([\n",
    "        \"2023-03-21\",\n",
    "        \"2023-04-20\",\n",
    "        \"2023-04-21\",\n",
    "        \"2023-04-27\",\n",
    "        \"2023-05-01\",\n",
    "        \"2023-06-28\",\n",
    "        \"2023-06-29\",\n",
    "        \"2023-09-25\",\n",
    "        \"2023-12-01\",\n",
    "        \"2023-12-16\",\n",
    "        \"2023-12-25\",\n",
    "        \"2023-12-26\",\n",
    "        \"2024-01-01\",\n",
    "        \"2024-03-21\",\n",
    "        \"2024-03-29\",\n",
    "        \"2024-04-01\",\n",
    "        \"2024-04-27\",\n",
    "        \"2024-05-01\",\n",
    "        \"2024-06-16\",\n",
    "        \"2024-06-17\",\n",
    "        \"2024-08-09\",\n",
    "        \"2024-09-24\",\n",
    "        \"2024-12-16\",\n",
    "        \"2024-12-25\",\n",
    "        \"2024-12-26\",\n",
    "        \"2025-01-01\",  # New Year’s Day\n",
    "        \"2025-03-21\",  # Human Rights Day\n",
    "        \"2025-04-18\",  # Good Friday\n",
    "        \"2025-04-21\",  # Family Day\n",
    "        \"2025-04-27\",  # Freedom Day\n",
    "        \"2025-04-28\",  # Freedom Day Observed\n",
    "        \"2025-05-01\",  # Workers' Day\n",
    "        \"2025-06-16\",  # Youth Day\n",
    "        \"2025-08-09\",  # National Women’s Day\n",
    "        \"2025-09-24\",  # Heritage Day\n",
    "        \"2025-12-16\",  # Day of Reconciliation\n",
    "        \"2025-12-25\",  # Christmas Day\n",
    "        \"2025-12-26\"   # Day of Goodwill\n",
    "    ]),\n",
    "    \"lower_window\": 0,\n",
    "    \"upper_window\": 0\n",
    "})\n",
    "\n",
    "holidays_df.head()\n",
    "\n"
   ]
  },
  {
   "cell_type": "code",
   "execution_count": 0,
   "metadata": {
    "application/vnd.databricks.v1+cell": {
     "cellMetadata": {
      "byteLimit": 2048000,
      "rowLimit": 10000
     },
     "collapsed": true,
     "inputWidgets": {},
     "nuid": "f0878343-ae0d-4c78-8bc0-46d3d046ddef",
     "showTitle": false,
     "tableResultSettingsMap": {},
     "title": ""
    }
   },
   "outputs": [],
   "source": [
    "m_holidays = NeuralProphet(\n",
    "    yearly_seasonality=True,\n",
    "    weekly_seasonality=True,\n",
    "    daily_seasonality=False,\n",
    "    seasonality_mode='additive',\n",
    ")\n",
    "\n",
    "m_holidays.add_events('Holiday')\n",
    "\n",
    "# Create a combined dataframe with events\n",
    "df_with_holidays = m_holidays.create_df_with_events(train_df, holidays_df)\n",
    "\n",
    "# Fit the model with the combined dataframe\n",
    "metrics_holidays = m_holidays.fit(df_with_holidays)\n",
    "\n",
    "# For prediction, you need to include events in the test period too\n",
    "# First, filter holidays that fall within the test period\n",
    "test_start = test_df['ds'].min()\n",
    "test_end = test_df['ds'].max()\n",
    "test_holidays = holidays_df[(holidays_df['ds'] >= test_start) & (holidays_df['ds'] <= test_end)]\n",
    "\n",
    "# Create test dataframe with events\n",
    "test_with_holidays = m_holidays.create_df_with_events(test_df, test_holidays)\n",
    "\n",
    "# Make predictions\n",
    "base_forecast_holidays = m_holidays.predict(test_with_holidays)\n",
    "base_forecast_holidays.head()"
   ]
  },
  {
   "cell_type": "code",
   "execution_count": 0,
   "metadata": {
    "application/vnd.databricks.v1+cell": {
     "cellMetadata": {
      "byteLimit": 2048000,
      "rowLimit": 10000
     },
     "collapsed": true,
     "inputWidgets": {},
     "nuid": "0d1a22ba-ec66-4a35-8276-50c4f63c7441",
     "showTitle": false,
     "tableResultSettingsMap": {},
     "title": ""
    }
   },
   "outputs": [],
   "source": [
    "fig, ax = plt.subplots(figsize=(10, 6))\n",
    "\n",
    "# Plotting the test_df (actual values)\n",
    "ax.plot(test_df['ds'], test_df['y'], label='Actual', color='blue')\n",
    "\n",
    "# Plotting the base_forecast (predicted values)\n",
    "ax.plot(base_forecast_holidays['ds'], base_forecast_holidays['yhat1'], label='Forecast', color='red')\n",
    "# Adding labels and title\n",
    "ax.set_xlabel('Date')\n",
    "ax.set_ylabel('Value')\n",
    "ax.set_title('Actual vs. Forecasted Values')\n",
    "ax.legend()\n",
    "\n",
    "# Display the plot\n",
    "plt.show()"
   ]
  },
  {
   "cell_type": "code",
   "execution_count": 0,
   "metadata": {
    "application/vnd.databricks.v1+cell": {
     "cellMetadata": {
      "byteLimit": 2048000,
      "rowLimit": 10000
     },
     "collapsed": true,
     "inputWidgets": {},
     "nuid": "9d0c1c4f-9790-4904-a33b-3124959bd219",
     "showTitle": false,
     "tableResultSettingsMap": {},
     "title": ""
    }
   },
   "outputs": [],
   "source": [
    "model_testing(test_df[0:89], base_forecast_holidays[0:89])"
   ]
  },
  {
   "cell_type": "markdown",
   "metadata": {
    "application/vnd.databricks.v1+cell": {
     "cellMetadata": {
      "byteLimit": 2048000,
      "rowLimit": 10000
     },
     "inputWidgets": {},
     "nuid": "4f136e43-df4f-4f82-ad22-76f7c154dd4a",
     "showTitle": false,
     "tableResultSettingsMap": {},
     "title": ""
    }
   },
   "source": [
    "Build and train model with autoregression"
   ]
  },
  {
   "cell_type": "code",
   "execution_count": 0,
   "metadata": {
    "application/vnd.databricks.v1+cell": {
     "cellMetadata": {
      "byteLimit": 2048000,
      "rowLimit": 10000
     },
     "inputWidgets": {},
     "nuid": "1e611cbe-e1e9-4946-8eba-99dc8406e341",
     "showTitle": false,
     "tableResultSettingsMap": {},
     "title": ""
    }
   },
   "outputs": [],
   "source": [
    "holidays_df = pd.DataFrame({\n",
    "    \"event\": 'Holiday',\n",
    "    \"ds\": pd.to_datetime([\n",
    "        \"2023-03-21\",\n",
    "        \"2023-04-20\",\n",
    "        \"2023-04-21\",\n",
    "        \"2023-04-27\",\n",
    "        \"2023-05-01\",\n",
    "        \"2023-06-28\",\n",
    "        \"2023-06-29\",\n",
    "        \"2023-09-25\",\n",
    "        \"2023-12-01\",\n",
    "        \"2023-12-16\",\n",
    "        \"2023-12-25\",\n",
    "        \"2023-12-26\",\n",
    "        \"2024-01-01\",\n",
    "        \"2024-03-21\",\n",
    "        \"2024-03-29\",\n",
    "        \"2024-04-01\",\n",
    "        \"2024-04-27\",\n",
    "        \"2024-05-01\",\n",
    "        \"2024-06-16\",\n",
    "        \"2024-06-17\",\n",
    "        \"2024-08-09\",\n",
    "        \"2024-09-24\",\n",
    "        \"2024-12-16\",\n",
    "        \"2024-12-25\",\n",
    "        \"2024-12-26\",\n",
    "        \"2025-01-01\",  # New Year’s Day\n",
    "        \"2025-03-21\",  # Human Rights Day\n",
    "        \"2025-04-18\",  # Good Friday\n",
    "        \"2025-04-21\",  # Family Day\n",
    "        \"2025-04-27\",  # Freedom Day\n",
    "        \"2025-04-28\",  # Freedom Day Observed\n",
    "        \"2025-05-01\",  # Workers' Day\n",
    "        \"2025-06-16\",  # Youth Day\n",
    "        \"2025-08-09\",  # National Women’s Day\n",
    "        \"2025-09-24\",  # Heritage Day\n",
    "        \"2025-12-16\",  # Day of Reconciliation\n",
    "        \"2025-12-25\",  # Christmas Day\n",
    "        \"2025-12-26\"   # Day of Goodwill\n",
    "    ]),\n",
    "    \"lower_window\": 0,\n",
    "    \"upper_window\": 0\n",
    "})"
   ]
  },
  {
   "cell_type": "code",
   "execution_count": 0,
   "metadata": {
    "application/vnd.databricks.v1+cell": {
     "cellMetadata": {
      "byteLimit": 2048000,
      "rowLimit": 10000
     },
     "inputWidgets": {},
     "nuid": "42b8086e-f902-4bb6-9b5a-5256e4a7f74c",
     "showTitle": false,
     "tableResultSettingsMap": {},
     "title": ""
    }
   },
   "outputs": [],
   "source": [
    "# Create a NeuralProphet model with default parameters\n",
    "params = {\n",
    "    'n_lags': 60,\n",
    "    'n_forecasts': 7,\n",
    "    'ar_reg': 0.18351866767708624,\n",
    "    'seasonality_mode': 'additive',\n",
    "    'yearly_seasonality': True,\n",
    "    'weekly_seasonality': True,\n",
    "    'daily_seasonality': False,\n",
    "}\n",
    "\n",
    "m = NeuralProphet(params)\n",
    "# Use static plotly in notebooks\n",
    "m.set_plotting_backend(\"plotly-static\")\n",
    "\n",
    "m.add_events('Holiday')\n",
    "\n",
    "# Create a combined dataframe with events\n",
    "df_with_holidays = m.create_df_with_events(train_df, holidays_df)\n",
    "\n",
    "# Fit the model with the combined dataframe\n",
    "metrics = m.fit(df_with_holidays)\n",
    "\n",
    "# For prediction, you need to include events in the test period too\n",
    "# First, filter holidays that fall within the test period\n",
    "test_start = test_df['ds'].min()\n",
    "test_end = test_df['ds'].max()\n",
    "test_holidays = holidays_df[(holidays_df['ds'] >= test_start) & (holidays_df['ds'] <= test_end)]\n",
    "\n",
    "# Create test dataframe with events\n",
    "test_with_holidays = m.create_df_with_events(test_df, test_holidays)\n",
    "\n",
    "# Make predictions\n",
    "forecast_holidays = m_holidays.predict(test_with_holidays)\n",
    "forecast_holidays.head()"
   ]
  },
  {
   "cell_type": "code",
   "execution_count": 0,
   "metadata": {
    "application/vnd.databricks.v1+cell": {
     "cellMetadata": {
      "byteLimit": 2048000,
      "rowLimit": 10000
     },
     "inputWidgets": {},
     "nuid": "f901e10c-807b-4a0d-8ff0-e17a080794f9",
     "showTitle": false,
     "tableResultSettingsMap": {},
     "title": ""
    }
   },
   "outputs": [],
   "source": [
    "def recursive_predict(model, history_df, forecast_periods, n_forecasts=None):\n",
    "    \"\"\"\n",
    "    Recursively extend a NeuralProphet forecast beyond the native forecast horizon.\n",
    "\n",
    "    Args:\n",
    "        model: Trained NeuralProphet model.\n",
    "        history_df (pd.DataFrame): The historical training data with columns ['ds', 'y'].\n",
    "        forecast_periods (int): Total number of days to forecast into the future.\n",
    "        n_forecasts (int, optional): Number of steps forecasted per iteration.\n",
    "                                    If None, uses model.n_forecasts.\n",
    "\n",
    "    Returns:\n",
    "        pd.DataFrame: DataFrame with dates and forecasted values.\n",
    "    \"\"\"\n",
    "    # Use model's n_forecasts if not specified\n",
    "    if n_forecasts is None:\n",
    "        n_forecasts = params['n_forecasts']\n",
    "\n",
    "    # Create a copy of history to avoid modifying the original\n",
    "    df_history = deepcopy(history_df)\n",
    "\n",
    "    # Create a dataframe to store all forecasts\n",
    "    all_forecasts = pd.DataFrame(columns=['ds', 'yhat1'])\n",
    "\n",
    "    # Calculate how many iterations we need\n",
    "    remaining_periods = forecast_periods\n",
    "\n",
    "    while remaining_periods > 0:\n",
    "        print(f\"Forecasting {min(n_forecasts, remaining_periods)} days ahead...\")\n",
    "\n",
    "        # Generate future dataframe\n",
    "        periods = min(n_forecasts, remaining_periods)\n",
    "        df_future = model.make_future_dataframe(\n",
    "            df=df_history,\n",
    "            periods=periods,\n",
    "            n_historic_predictions=False\n",
    "        )\n",
    "\n",
    "        # Predict\n",
    "        df_forecast = model.predict(df_future)\n",
    "\n",
    "        if df_forecast is None or df_forecast.empty:\n",
    "            print(f\"Warning: Empty forecast\")\n",
    "            break\n",
    "\n",
    "        # Check available forecast columns\n",
    "        forecast_cols = [col for col in df_forecast.columns if col.startswith('yhat')]\n",
    "        print(f\"Available forecast columns: {forecast_cols}\")\n",
    "\n",
    "        # Add forecasts to our collection\n",
    "        forecast_rows = []\n",
    "        new_history_rows = []\n",
    "\n",
    "        # If we only have yhat1 column but need to forecast multiple days\n",
    "        if len(forecast_cols) == 1 and forecast_cols[0] == 'yhat1':\n",
    "            # Use each row's yhat1 value\n",
    "            for i in range(len(df_forecast)):\n",
    "                forecast_row = {\n",
    "                    'ds': df_forecast['ds'].iloc[i],\n",
    "                    'yhat1': df_forecast['yhat1'].iloc[i]\n",
    "                }\n",
    "                forecast_rows.append(forecast_row)\n",
    "\n",
    "                # Also add to history for next iteration\n",
    "                new_history_row = {\n",
    "                    'ds': df_forecast['ds'].iloc[i],\n",
    "                    'y': df_forecast['yhat1'].iloc[i]\n",
    "                }\n",
    "                new_history_rows.append(new_history_row)\n",
    "        else:\n",
    "            # Handle multi-column case (yhat1, yhat2, etc.)\n",
    "            for j in range(min(len(forecast_cols), len(df_forecast))):\n",
    "                if j < len(df_forecast):\n",
    "                    yhat_col = forecast_cols[j]\n",
    "                    forecast_row = {\n",
    "                        'ds': df_forecast['ds'].iloc[j],\n",
    "                        'yhat1': df_forecast[yhat_col].iloc[j]\n",
    "                    }\n",
    "                    forecast_rows.append(forecast_row)\n",
    "\n",
    "                    new_history_row = {\n",
    "                        'ds': df_forecast['ds'].iloc[j],\n",
    "                        'y': df_forecast[yhat_col].iloc[j]\n",
    "                    }\n",
    "                    new_history_rows.append(new_history_row)\n",
    "\n",
    "        # Add to forecasts\n",
    "        if forecast_rows:\n",
    "            all_forecasts = pd.concat([all_forecasts, pd.DataFrame(forecast_rows)], ignore_index=True)\n",
    "\n",
    "            # Add to history for next iteration\n",
    "            if new_history_rows:\n",
    "                df_append = pd.DataFrame(new_history_rows)\n",
    "                df_history = pd.concat([df_history, df_append], ignore_index=True)\n",
    "\n",
    "                # Update remaining periods\n",
    "                remaining_periods -= len(new_history_rows)\n",
    "            else:\n",
    "                print(f\"Warning: No valid forecasts generated\")\n",
    "                break\n",
    "        else:\n",
    "            print(f\"Warning: No valid forecasts generated\")\n",
    "            break\n",
    "\n",
    "    # Limit to requested forecast periods\n",
    "    all_forecasts = all_forecasts.head(forecast_periods)\n",
    "\n",
    "    if len(all_forecasts) == 0:\n",
    "        print(\"No forecasts generated.\")\n",
    "        return None\n",
    "\n",
    "    return all_forecasts"
   ]
  },
  {
   "cell_type": "code",
   "execution_count": 0,
   "metadata": {
    "application/vnd.databricks.v1+cell": {
     "cellMetadata": {
      "byteLimit": 2048000,
      "rowLimit": 10000
     },
     "inputWidgets": {},
     "nuid": "ebf3d7e9-22f3-42c2-9d7e-198c22292948",
     "showTitle": false,
     "tableResultSettingsMap": {},
     "title": ""
    }
   },
   "outputs": [],
   "source": [
    "forecast_90day = recursive_predict(m, train_df, forecast_periods=90)\n",
    "print(forecast_90day)"
   ]
  },
  {
   "cell_type": "code",
   "execution_count": 0,
   "metadata": {
    "application/vnd.databricks.v1+cell": {
     "cellMetadata": {
      "byteLimit": 2048000,
      "rowLimit": 10000
     },
     "inputWidgets": {},
     "nuid": "0959759f-3189-4995-a3eb-83f767db8741",
     "showTitle": false,
     "tableResultSettingsMap": {},
     "title": ""
    }
   },
   "outputs": [],
   "source": [
    "plt.figure(figsize=(10, 6))\n",
    "plt.plot(forecast_90day['ds'], forecast_90day['yhat1'], label='Forecast', color='orange')\n",
    "plt.plot(test_df['ds'], test_df['y'], label='Actual', color='blue')\n",
    "plt.xlabel('Date')\n",
    "plt.ylabel('Forecasted Value')\n",
    "plt.title('90 Day Forecasted Timeline')\n",
    "plt.legend()\n",
    "plt.grid(True)\n",
    "plt.tight_layout()\n",
    "\n"
   ]
  },
  {
   "cell_type": "code",
   "execution_count": 0,
   "metadata": {
    "application/vnd.databricks.v1+cell": {
     "cellMetadata": {
      "byteLimit": 2048000,
      "rowLimit": 10000
     },
     "inputWidgets": {},
     "nuid": "90bfaa66-9836-4218-8889-c3f13a51ea17",
     "showTitle": false,
     "tableResultSettingsMap": {},
     "title": ""
    }
   },
   "outputs": [],
   "source": [
    "model_testing(test_df[0:89],forecast_90day[0:89])"
   ]
  },
  {
   "cell_type": "markdown",
   "metadata": {
    "application/vnd.databricks.v1+cell": {
     "cellMetadata": {},
     "inputWidgets": {},
     "nuid": "dc32d8f8-0fcd-4721-84b7-6d0f1dab5cd7",
     "showTitle": false,
     "tableResultSettingsMap": {},
     "title": ""
    }
   },
   "source": [
    "Export the model"
   ]
  },
  {
   "cell_type": "code",
   "execution_count": 0,
   "metadata": {
    "application/vnd.databricks.v1+cell": {
     "cellMetadata": {
      "byteLimit": 2048000,
      "rowLimit": 10000
     },
     "inputWidgets": {},
     "nuid": "dd77b335-157f-4c18-b8d5-fae5984a8bfd",
     "showTitle": false,
     "tableResultSettingsMap": {},
     "title": ""
    }
   },
   "outputs": [],
   "source": [
    "import mlflow.pyfunc\n",
    "model_path = \"/Workspace/Users/ryan@delve.systems/Prophet_AI\"\n",
    "mlflow.pyfunc.save_model(path=model_path, python_model=m)"
   ]
  },
  {
   "cell_type": "code",
   "execution_count": 0,
   "metadata": {
    "application/vnd.databricks.v1+cell": {
     "cellMetadata": {},
     "inputWidgets": {},
     "nuid": "135c3105-de3f-4f06-927f-ed8d3854a88f",
     "showTitle": false,
     "tableResultSettingsMap": {},
     "title": ""
    }
   },
   "outputs": [],
   "source": []
  }
 ],
 "metadata": {
  "application/vnd.databricks.v1+notebook": {
   "computePreferences": null,
   "dashboards": [],
   "environmentMetadata": {
    "base_environment": "",
    "environment_version": "2"
   },
   "inputWidgetPreferences": null,
   "language": "python",
   "notebookMetadata": {
    "pythonIndentUnit": 2
   },
   "notebookName": "Prophet_AI",
   "widgets": {}
  },
  "language_info": {
   "name": "python"
  }
 },
 "nbformat": 4,
 "nbformat_minor": 0
}
